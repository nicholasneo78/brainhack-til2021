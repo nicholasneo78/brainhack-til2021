{
  "nbformat": 4,
  "nbformat_minor": 0,
  "metadata": {
    "colab": {
      "name": "TIL21_SC_baseline.ipynb",
      "provenance": [],
      "collapsed_sections": []
    },
    "kernelspec": {
      "name": "python3",
      "display_name": "Python 3"
    },
    "accelerator": "GPU"
  },
  "cells": [
    {
      "cell_type": "markdown",
      "metadata": {
        "id": "mU4p2Wl_b5RW"
      },
      "source": [
        "## Link to Colab"
      ]
    },
    {
      "cell_type": "code",
      "metadata": {
        "colab": {
          "base_uri": "https://localhost:8080/"
        },
        "id": "1dI8Ip3gb8ds",
        "outputId": "e911e668-e9a8-4542-d126-ea45ca969cd7"
      },
      "source": [
        "# connect to google colab\n",
        "from google.colab import drive\n",
        "drive.mount(\"/content/drive\")"
      ],
      "execution_count": null,
      "outputs": [
        {
          "output_type": "stream",
          "text": [
            "Drive already mounted at /content/drive; to attempt to forcibly remount, call drive.mount(\"/content/drive\", force_remount=True).\n"
          ],
          "name": "stdout"
        }
      ]
    },
    {
      "cell_type": "markdown",
      "metadata": {
        "id": "CtLPLbA0cxBE"
      },
      "source": [
        "## Downloading Dependencies"
      ]
    },
    {
      "cell_type": "code",
      "metadata": {
        "colab": {
          "base_uri": "https://localhost:8080/"
        },
        "id": "2h7Cxnb-5XHg",
        "outputId": "c90478b7-eb72-4ede-a3eb-0e11902e013e"
      },
      "source": [
        "# install torchaudio\n",
        "!pip install torchaudio==0.7.0 -f https://download.pytorch.org/whl/torch_stable.html"
      ],
      "execution_count": null,
      "outputs": [
        {
          "output_type": "stream",
          "text": [
            "Looking in links: https://download.pytorch.org/whl/torch_stable.html\n",
            "Collecting torchaudio==0.7.0\n",
            "\u001b[?25l  Downloading https://files.pythonhosted.org/packages/5d/75/5ce994c76cf7b53ff8c577d7a8221fa0c9dfe9e34c0536c6eaf3e466788a/torchaudio-0.7.0-cp37-cp37m-manylinux1_x86_64.whl (7.6MB)\n",
            "\u001b[K     |████████████████████████████████| 7.6MB 7.5MB/s \n",
            "\u001b[?25hCollecting torch==1.7.0\n",
            "\u001b[?25l  Downloading https://download.pytorch.org/whl/cu92/torch-1.7.0%2Bcu92-cp37-cp37m-linux_x86_64.whl (577.3MB)\n",
            "\u001b[K     |████████████████████████████████| 577.3MB 28kB/s \n",
            "\u001b[?25hRequirement already satisfied: future in /usr/local/lib/python3.7/dist-packages (from torch==1.7.0->torchaudio==0.7.0) (0.16.0)\n",
            "Requirement already satisfied: numpy in /usr/local/lib/python3.7/dist-packages (from torch==1.7.0->torchaudio==0.7.0) (1.19.5)\n",
            "Collecting dataclasses\n",
            "  Downloading https://files.pythonhosted.org/packages/26/2f/1095cdc2868052dd1e64520f7c0d5c8c550ad297e944e641dbf1ffbb9a5d/dataclasses-0.6-py3-none-any.whl\n",
            "Requirement already satisfied: typing-extensions in /usr/local/lib/python3.7/dist-packages (from torch==1.7.0->torchaudio==0.7.0) (3.7.4.3)\n",
            "\u001b[31mERROR: torchvision 0.9.1+cu101 has requirement torch==1.8.1, but you'll have torch 1.7.0+cu92 which is incompatible.\u001b[0m\n",
            "\u001b[31mERROR: torchtext 0.9.1 has requirement torch==1.8.1, but you'll have torch 1.7.0+cu92 which is incompatible.\u001b[0m\n",
            "Installing collected packages: dataclasses, torch, torchaudio\n",
            "  Found existing installation: torch 1.8.1+cu101\n",
            "    Uninstalling torch-1.8.1+cu101:\n",
            "      Successfully uninstalled torch-1.8.1+cu101\n",
            "Successfully installed dataclasses-0.6 torch-1.7.0+cu92 torchaudio-0.7.0\n"
          ],
          "name": "stdout"
        }
      ]
    },
    {
      "cell_type": "code",
      "metadata": {
        "id": "3e-YTe8ZK0Ak"
      },
      "source": [
        "import os\n",
        "import numpy as np\n",
        "import pandas as pd"
      ],
      "execution_count": null,
      "outputs": []
    },
    {
      "cell_type": "code",
      "metadata": {
        "id": "5AjX3qrmvj0x"
      },
      "source": [
        "# current torch version is 1.7.0+cu101\n",
        "import torch\n",
        "import torch.nn as nn\n",
        "import torch.nn.functional as F\n",
        "import torch.optim as optim\n",
        "\n",
        "import warnings\n",
        "warnings.filterwarnings(\"ignore\")\n",
        "import torchaudio\n",
        "\n",
        "import matplotlib.pyplot as plt\n",
        "import IPython.display as ipd"
      ],
      "execution_count": null,
      "outputs": []
    },
    {
      "cell_type": "code",
      "metadata": {
        "colab": {
          "base_uri": "https://localhost:8080/"
        },
        "id": "uUiwwAIP6_o_",
        "outputId": "764b74ac-c620-499f-ffd5-26e808a9ad43"
      },
      "source": [
        "# check if cuda GPU is available, make sure you're using GPU runtime on Google Colab\n",
        "device = torch.device(\"cuda\" if torch.cuda.is_available() else \"cpu\")\n",
        "print(device) # you should output \"cuda\""
      ],
      "execution_count": null,
      "outputs": [
        {
          "output_type": "stream",
          "text": [
            "cuda\n"
          ],
          "name": "stdout"
        }
      ]
    },
    {
      "cell_type": "code",
      "metadata": {
        "id": "mALGocygasac"
      },
      "source": [
        "# COLAB CONFIG\n",
        "# change colab flag to false if train using jupyter notebook\n",
        "COLAB_FLAG = True\n",
        "COLAB_FILEPATH = './drive/My Drive/TIL2021/competition/SC/' if COLAB_FLAG == True else './'\n",
        "pd.options.mode.chained_assignment = None  # default='warn'\n",
        "%matplotlib inline"
      ],
      "execution_count": null,
      "outputs": []
    },
    {
      "cell_type": "markdown",
      "metadata": {
        "id": "t9z4qZ8A8HTn"
      },
      "source": [
        "## Speech Classification Dataset\n",
        "We will be providing the base dataset that will be used for the first task of the Speech Classification competition."
      ]
    },
    {
      "cell_type": "code",
      "metadata": {
        "id": "eghj9hRaFWUz",
        "colab": {
          "base_uri": "https://localhost:8080/"
        },
        "outputId": "3607f9ef-d2b0-4fb7-ab03-d060adc226ea"
      },
      "source": [
        "!gdown --id 1im5shxcavdoTRNT66mhVdtA_E0ZR8QLl\n",
        "!unzip s1_train_release.zip"
      ],
      "execution_count": null,
      "outputs": [
        {
          "output_type": "stream",
          "text": [
            "Downloading...\n",
            "From: https://drive.google.com/uc?id=1im5shxcavdoTRNT66mhVdtA_E0ZR8QLl\n",
            "To: /content/s1_train_release.zip\n",
            "48.3MB [00:00, 78.6MB/s]\n",
            "Archive:  s1_train_release.zip\n",
            "replace s1_train_release/bird/train_bird_8400.wav? [y]es, [n]o, [A]ll, [N]one, [r]ename: n\n",
            "replace s1_train_release/bird/train_bird_8401.wav? [y]es, [n]o, [A]ll, [N]one, [r]ename: \n",
            "error:  invalid response [{ENTER}]\n",
            "replace s1_train_release/bird/train_bird_8401.wav? [y]es, [n]o, [A]ll, [N]one, [r]ename: n\n",
            "replace s1_train_release/bird/train_bird_8402.wav? [y]es, [n]o, [A]ll, [N]one, [r]ename: n\n",
            "replace s1_train_release/bird/train_bird_8405.wav? [y]es, [n]o, [A]ll, [N]one, [r]ename: "
          ],
          "name": "stdout"
        }
      ]
    },
    {
      "cell_type": "code",
      "metadata": {
        "id": "j8Iv0DXlINyH"
      },
      "source": [
        "class CustomSpeechDataset(torch.utils.data.Dataset):\n",
        "  def __init__(self, path, typ='train', transforms=None):\n",
        "\n",
        "    assert typ == 'train' or typ == 'test', 'typ must be either \"train\" or \"test\"'\n",
        "\n",
        "    self.typ = typ\n",
        "    self.transforms = transforms\n",
        "    self.targets = []\n",
        "\n",
        "    if self.typ == 'train':\n",
        "      self.class_names = sorted(os.listdir(path))\n",
        "      num_classes = len(self.class_names)\n",
        "\n",
        "      for class_idx, class_name in enumerate(self.class_names):\n",
        "        class_dirx = os.path.join(path, class_name)\n",
        "        wav_list = os.listdir(class_dirx)\n",
        "\n",
        "        for wav_file in wav_list:\n",
        "          self.targets.append({\n",
        "              'filename': wav_file,\n",
        "              'path': os.path.join(class_dirx, wav_file),\n",
        "              'class': class_name\n",
        "          })\n",
        "\n",
        "    if self.typ == 'test':\n",
        "      wav_list = os.listdir(path)\n",
        "      for wav_file in wav_list:\n",
        "        self.targets.append({\n",
        "            'filename': wav_file,\n",
        "            'path': os.path.join(path, wav_file)\n",
        "        })\n",
        "  \n",
        "  def __len__(self):\n",
        "    return len(self.targets)\n",
        "\n",
        "  def __getitem__(self, idx):\n",
        "    if torch.is_tensor(idx):\n",
        "      idx.tolist()\n",
        "\n",
        "    # sr is the sampling rate\n",
        "    signal, sr = torchaudio.load(self.targets[idx]['path'], normalization=True)\n",
        "    filename = self.targets[idx]['filename']\n",
        "\n",
        "    if self.transforms:\n",
        "      for transform in self.transforms:\n",
        "        signal = transform(signal)\n",
        "\n",
        "    if self.typ == 'train':\n",
        "      clx_name = self.targets[idx]['class']\n",
        "      return filename, signal, sr, clx_name\n",
        "    \n",
        "    elif self.typ == 'test':\n",
        "      return filename, signal, sr"
      ],
      "execution_count": null,
      "outputs": []
    },
    {
      "cell_type": "code",
      "metadata": {
        "id": "5yCUkL1VKtTH",
        "colab": {
          "base_uri": "https://localhost:8080/"
        },
        "outputId": "ccc72394-a2c3-4a4e-df0e-3318352b41cf"
      },
      "source": [
        "full_dataset = CustomSpeechDataset(path='s1_train_release', typ='train')\n",
        "train_size = int(len(full_dataset)*0.8)\n",
        "valid_size = len(full_dataset) - train_size\n",
        "print(train_size, valid_size)\n",
        "# train test split\n",
        "train_set, valid_set = torch.utils.data.random_split(full_dataset, [train_size, valid_size])"
      ],
      "execution_count": null,
      "outputs": [
        {
          "output_type": "stream",
          "text": [
            "2080 520\n"
          ],
          "name": "stdout"
        }
      ]
    },
    {
      "cell_type": "code",
      "metadata": {
        "id": "Xtqy62U9K5rv",
        "colab": {
          "base_uri": "https://localhost:8080/"
        },
        "outputId": "bf127124-6d27-4be1-efbf-3636626ba51a"
      },
      "source": [
        "labels = full_dataset.class_names\n",
        "print(labels)"
      ],
      "execution_count": null,
      "outputs": [
        {
          "output_type": "stream",
          "text": [
            "['bird', 'eight', 'falcon', 'five', 'four', 'nine', 'one', 'seven', 'six', 'snake', 'three', 'two', 'zero']\n"
          ],
          "name": "stdout"
        }
      ]
    },
    {
      "cell_type": "code",
      "metadata": {
        "id": "Uio7QFjHaDoe"
      },
      "source": [
        "labels_to_indices = {}\n",
        "for idx, l in enumerate(labels):\n",
        "  labels_to_indices[l] = idx"
      ],
      "execution_count": null,
      "outputs": []
    },
    {
      "cell_type": "code",
      "metadata": {
        "colab": {
          "base_uri": "https://localhost:8080/"
        },
        "id": "Z7tPihV3a9K6",
        "outputId": "d44637fd-e53b-4eed-9622-4e1c2c0eb8a5"
      },
      "source": [
        "print(labels_to_indices)"
      ],
      "execution_count": null,
      "outputs": [
        {
          "output_type": "stream",
          "text": [
            "{'bird': 0, 'eight': 1, 'falcon': 2, 'five': 3, 'four': 4, 'nine': 5, 'one': 6, 'seven': 7, 'six': 8, 'snake': 9, 'three': 10, 'two': 11, 'zero': 12}\n"
          ],
          "name": "stdout"
        }
      ]
    },
    {
      "cell_type": "code",
      "metadata": {
        "id": "WfQ2-woGXIge"
      },
      "source": [
        ""
      ],
      "execution_count": null,
      "outputs": []
    },
    {
      "cell_type": "markdown",
      "metadata": {
        "id": "wL1cwuwOVFcX"
      },
      "source": [
        "## Get the data distribution of each class"
      ]
    },
    {
      "cell_type": "code",
      "metadata": {
        "colab": {
          "base_uri": "https://localhost:8080/"
        },
        "id": "2Hi2wNx_VJt1",
        "outputId": "52f1b274-ff16-44e4-d304-3c0ec000eae0"
      },
      "source": [
        "train_filename_list = []\n",
        "train_label_list = []\n",
        "for i in range(len(train_set)):\n",
        "    train_filename_list.append(train_set[i][0])\n",
        "    train_label_list.append(train_set[i][3])\n",
        "print(train_filename_list[:5])\n",
        "print(train_label_list[:5])"
      ],
      "execution_count": null,
      "outputs": [
        {
          "output_type": "stream",
          "text": [
            "['train_seven_3698.wav', 'train_falcon_0388.wav', 'train_seven_3667.wav', 'train_falcon_1533.wav', 'train_six_3883.wav']\n",
            "['seven', 'falcon', 'seven', 'falcon', 'six']\n"
          ],
          "name": "stdout"
        }
      ]
    },
    {
      "cell_type": "code",
      "metadata": {
        "colab": {
          "base_uri": "https://localhost:8080/",
          "height": 206
        },
        "id": "ogQozC8AVE7P",
        "outputId": "755cdb7a-9949-4aac-f8d4-faf9e571b130"
      },
      "source": [
        "# make to dataframe\n",
        "train_tuple = list(zip(train_filename_list, train_label_list))\n",
        "#print(result_tuple)\n",
        "train_df = pd.DataFrame(train_tuple, columns=['train_filename', 'train_label'])\n",
        "train_df.head()"
      ],
      "execution_count": null,
      "outputs": [
        {
          "output_type": "execute_result",
          "data": {
            "text/html": [
              "<div>\n",
              "<style scoped>\n",
              "    .dataframe tbody tr th:only-of-type {\n",
              "        vertical-align: middle;\n",
              "    }\n",
              "\n",
              "    .dataframe tbody tr th {\n",
              "        vertical-align: top;\n",
              "    }\n",
              "\n",
              "    .dataframe thead th {\n",
              "        text-align: right;\n",
              "    }\n",
              "</style>\n",
              "<table border=\"1\" class=\"dataframe\">\n",
              "  <thead>\n",
              "    <tr style=\"text-align: right;\">\n",
              "      <th></th>\n",
              "      <th>train_filename</th>\n",
              "      <th>train_label</th>\n",
              "    </tr>\n",
              "  </thead>\n",
              "  <tbody>\n",
              "    <tr>\n",
              "      <th>0</th>\n",
              "      <td>train_seven_3698.wav</td>\n",
              "      <td>seven</td>\n",
              "    </tr>\n",
              "    <tr>\n",
              "      <th>1</th>\n",
              "      <td>train_falcon_0388.wav</td>\n",
              "      <td>falcon</td>\n",
              "    </tr>\n",
              "    <tr>\n",
              "      <th>2</th>\n",
              "      <td>train_seven_3667.wav</td>\n",
              "      <td>seven</td>\n",
              "    </tr>\n",
              "    <tr>\n",
              "      <th>3</th>\n",
              "      <td>train_falcon_1533.wav</td>\n",
              "      <td>falcon</td>\n",
              "    </tr>\n",
              "    <tr>\n",
              "      <th>4</th>\n",
              "      <td>train_six_3883.wav</td>\n",
              "      <td>six</td>\n",
              "    </tr>\n",
              "  </tbody>\n",
              "</table>\n",
              "</div>"
            ],
            "text/plain": [
              "          train_filename train_label\n",
              "0   train_seven_3698.wav       seven\n",
              "1  train_falcon_0388.wav      falcon\n",
              "2   train_seven_3667.wav       seven\n",
              "3  train_falcon_1533.wav      falcon\n",
              "4     train_six_3883.wav         six"
            ]
          },
          "metadata": {
            "tags": []
          },
          "execution_count": 63
        }
      ]
    },
    {
      "cell_type": "code",
      "metadata": {
        "colab": {
          "base_uri": "https://localhost:8080/"
        },
        "id": "0x3Kv8HkXCm_",
        "outputId": "2810d50b-d240-420d-da05-f35113255d2a"
      },
      "source": [
        "# find the count of each label to check distribution of the labels\n",
        "train_df[\"train_label\"].value_counts()"
      ],
      "execution_count": null,
      "outputs": [
        {
          "output_type": "execute_result",
          "data": {
            "text/plain": [
              "falcon    170\n",
              "two       168\n",
              "three     167\n",
              "four      167\n",
              "one       161\n",
              "five      161\n",
              "eight     160\n",
              "nine      159\n",
              "bird      157\n",
              "six       157\n",
              "zero      154\n",
              "seven     150\n",
              "snake     149\n",
              "Name: train_label, dtype: int64"
            ]
          },
          "metadata": {
            "tags": []
          },
          "execution_count": 64
        }
      ]
    },
    {
      "cell_type": "code",
      "metadata": {
        "id": "6ZDEZYxbXCqs"
      },
      "source": [
        "# Hmmm... The distribution of the data is quite even for the training set :)"
      ],
      "execution_count": null,
      "outputs": []
    },
    {
      "cell_type": "markdown",
      "metadata": {
        "id": "jrrtzO7KBiq4"
      },
      "source": [
        "## Let's next look at one example from the training set."
      ]
    },
    {
      "cell_type": "code",
      "metadata": {
        "colab": {
          "base_uri": "https://localhost:8080/"
        },
        "id": "aMh48YVpbapr",
        "outputId": "a902d6b0-500d-4666-916c-3c7fbc089b90"
      },
      "source": [
        "train_set[0]"
      ],
      "execution_count": null,
      "outputs": [
        {
          "output_type": "execute_result",
          "data": {
            "text/plain": [
              "('train_seven_3698.wav',\n",
              " tensor([[ 0.0002, -0.0005,  0.0003,  ...,  0.0005,  0.0003,  0.0003]]),\n",
              " 16000,\n",
              " 'seven')"
            ]
          },
          "metadata": {
            "tags": []
          },
          "execution_count": 56
        }
      ]
    },
    {
      "cell_type": "code",
      "metadata": {
        "id": "IgwfKIIl_P5k"
      },
      "source": [
        "filename, waveform, sample_rate, label_id = train_set[0]"
      ],
      "execution_count": null,
      "outputs": []
    },
    {
      "cell_type": "code",
      "metadata": {
        "colab": {
          "base_uri": "https://localhost:8080/",
          "height": 302
        },
        "id": "WmL1bsGlALvM",
        "outputId": "da13e997-b0f5-47c3-c167-5b083388361c"
      },
      "source": [
        "print(\"Shape of waveform: {}\".format(waveform.size()))\n",
        "print(\"Sample rate of waveform: {}\".format(sample_rate))\n",
        "\n",
        "# Let's plot the waveform using matplotlib\n",
        "# We observe that the main audio activity happens at the later end of the clip\n",
        "plt.plot(waveform.t().numpy());"
      ],
      "execution_count": null,
      "outputs": [
        {
          "output_type": "stream",
          "text": [
            "Shape of waveform: torch.Size([1, 16000])\n",
            "Sample rate of waveform: 16000\n"
          ],
          "name": "stdout"
        },
        {
          "output_type": "display_data",
          "data": {
            "image/png": "[encoded data removed]",
            "text/plain": [
              "<Figure size 432x288 with 1 Axes>"
            ]
          },
          "metadata": {
            "tags": [],
            "needs_background": "light"
          }
        }
      ]
    },
    {
      "cell_type": "code",
      "metadata": {
        "colab": {
          "base_uri": "https://localhost:8080/",
          "height": 61
        },
        "id": "PBhtVJs5Ao2s",
        "outputId": "14f550a0-a179-4339-abd0-71df59402dd3"
      },
      "source": [
        "# let's play the audio clip and hear it for ourselves!\n",
        "ipd.Audio(waveform.numpy(), rate=sample_rate)"
      ],
      "execution_count": null,
      "outputs": [
        {
          "output_type": "execute_result",
          "data": {
            "text/html": [
              "\n",
              "                <audio controls=\"controls\" >\n",
              "                    <source src=\"data:audio/wav;base64,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\" type=\"audio/wav\" />\n",
              "                    Your browser does not support the audio element.\n",
              "                </audio>\n",
              "              "
            ],
            "text/plain": [
              "<IPython.lib.display.Audio object>"
            ]
          },
          "metadata": {
            "tags": []
          },
          "execution_count": 18
        }
      ]
    },
    {
      "cell_type": "markdown",
      "metadata": {
        "id": "Tz-eN4RZTvyW"
      },
      "source": [
        "## Constant Sample Lengths\n",
        "In order to insert our features into a model, we have to ensure that the features are of the same size. Below, we see that the sample length varies across the audio clips.\n",
        "\n",
        "Let's pad the audio clips to a maximum sample length of 16000. (16000 sample length is equal to 1 second at 16,000 Hz sampling rate)\n",
        "We will pad audio clips which are less than 1 second in length, with parts of itself."
      ]
    },
    {
      "cell_type": "code",
      "metadata": {
        "colab": {
          "base_uri": "https://localhost:8080/"
        },
        "id": "XeIumefFiZkl",
        "outputId": "e51dfc0b-7783-495d-858a-b78d50b6cf8f"
      },
      "source": [
        "audio_lens = []\n",
        "for i in range(len(train_set)):\n",
        "  audio_lens.append(train_set[i][1].size(1))\n",
        "\n",
        "print('Max Sample Length:', max(audio_lens))\n",
        "print('Min Sample Length:', min(audio_lens))"
      ],
      "execution_count": null,
      "outputs": [
        {
          "output_type": "stream",
          "text": [
            "Max Sample Length: 16000\n",
            "Min Sample Length: 16000\n"
          ],
          "name": "stdout"
        }
      ]
    },
    {
      "cell_type": "markdown",
      "metadata": {
        "id": "jgBpHmYtczEi"
      },
      "source": [
        "Since the min and the max length is the same and hence no need to pad the audio, else can run PadAudio and the shorter ones will be repeated with its own audio"
      ]
    },
    {
      "cell_type": "code",
      "metadata": {
        "id": "xLJ4Shh6kN6q"
      },
      "source": [
        "class PadAudio(torch.nn.Module):\n",
        "  def __init__(self, req_length = 16000):\n",
        "    super().__init__()\n",
        "    self.req_length = req_length\n",
        "\n",
        "  def forward(self, waveform):\n",
        "    while waveform.size(1) < self.req_length:\n",
        "      # example if audio length is 15800 and max is 16000, the remaining 200 samples will be concatenated\n",
        "      # with the FIRST 200 samples of the waveform itself again (repetition)\n",
        "      waveform = torch.cat((waveform, waveform[:, :self.req_length - waveform.size(1)]), axis=1)\n",
        "    return waveform\n",
        "\n",
        "# let's set up a list of transformations we are going to apply to the waveforms\n",
        "transformations = []\n",
        "transformations.append(PadAudio())"
      ],
      "execution_count": null,
      "outputs": []
    },
    {
      "cell_type": "code",
      "metadata": {
        "colab": {
          "base_uri": "https://localhost:8080/"
        },
        "id": "RIvMJtY3dmCD",
        "outputId": "7b9f10c8-f650-490c-ea14-72aa840f1703"
      },
      "source": [
        "transformations"
      ],
      "execution_count": null,
      "outputs": [
        {
          "output_type": "execute_result",
          "data": {
            "text/plain": [
              "[PadAudio()]"
            ]
          },
          "metadata": {
            "tags": []
          },
          "execution_count": 21
        }
      ]
    },
    {
      "cell_type": "markdown",
      "metadata": {
        "id": "5CD5HBKjCA3m"
      },
      "source": [
        "## Features\n",
        "In this classification example, instead of using the raw waveform of the audio clips, we will craft handmade audio features known as melspectrograms instead.\n",
        "\n",
        "For an in-depth explanation of what a melspectrogram is, I would highly recommend reading this article [here](https://medium.com/analytics-vidhya/understanding-the-mel-spectrogram-fca2afa2ce53).\n",
        "\n",
        "In short, a melspectrogram is a way to represent an audio signal’s loudness as it varies over time at different frequencies, while scaled to how humans perceive sound. (We can easily tell the difference between 500 and 1000 Hz, but we can't between 10,000 and 10,500 Hz.)\n",
        "\n",
        "![pic](https://i.ibb.co/WDsqsfb/melspectrogram.png)\n",
        "\n",
        "\n",
        "TorchAudio has an in-built method that can help us with this transformation. We shall then apply log scaling."
      ]
    },
    {
      "cell_type": "code",
      "metadata": {
        "id": "jlN83ccnJ8It"
      },
      "source": [
        "from torchaudio.transforms import MelSpectrogram\n",
        "\n",
        "# We define our own log transformation here\n",
        "class LogMelTransform(torch.nn.Module):\n",
        "\n",
        "    def __init__(self, log_offset = 1e-6):\n",
        "        super().__init__()\n",
        "        self.log_offset = log_offset\n",
        "\n",
        "    def forward(self, melspectrogram):\n",
        "        return torch.log(melspectrogram + self.log_offset)\n",
        "\n",
        "# Let's append these new transformations\n",
        "transformations.append(MelSpectrogram(sample_rate = 16000, n_mels = 128))\n",
        "transformations.append(LogMelTransform())"
      ],
      "execution_count": null,
      "outputs": []
    },
    {
      "cell_type": "code",
      "metadata": {
        "colab": {
          "base_uri": "https://localhost:8080/"
        },
        "id": "isPOYMl-eVXx",
        "outputId": "598101a8-ddac-484a-9c92-be76bbbb1fe0"
      },
      "source": [
        "transformations"
      ],
      "execution_count": null,
      "outputs": [
        {
          "output_type": "execute_result",
          "data": {
            "text/plain": [
              "[PadAudio(), MelSpectrogram(\n",
              "   (spectrogram): Spectrogram()\n",
              "   (mel_scale): MelScale()\n",
              " ), LogMelTransform()]"
            ]
          },
          "metadata": {
            "tags": []
          },
          "execution_count": 23
        }
      ]
    },
    {
      "cell_type": "markdown",
      "metadata": {
        "id": "E3_rz0d4Khpn"
      },
      "source": [
        "## Data Augmentation\n",
        "\n",
        "We will do a simple data augmentation process in order to increase the variations in our dataset.\n",
        "\n",
        "In the audio domain, the augmentation technique known as [SpecAugment](https://arxiv.org/abs/1904.08779) is often used. It makes use of 3 steps:\n",
        "- Time Warp (warps the spectrogram to the left or right) 2nd row\n",
        "- Frequency Masking (randomly masks a range of frequencies) 3rd row\n",
        "- Time Masking (randomly masks a range of time) 4th row\n",
        "\n",
        "![specaugment pic](https://drive.google.com/uc?export=view&id=1C085-PlXVhjzh4kzCy869VHRGwC3aDHJ)\n",
        "\n",
        "As Time Warp is computationally intensive and does not contribute significant improvement in results, we shall simply use Frequency and Time Masking in this example."
      ]
    },
    {
      "cell_type": "code",
      "metadata": {
        "id": "omm4z5GsJ-wS"
      },
      "source": [
        "from torchaudio.transforms import TimeMasking, FrequencyMasking\n",
        "\n",
        "eval_transformations = transformations.copy()\n",
        "\n",
        "# Let's extend the list of transformations with the augmentations\n",
        "transformations.append(TimeMasking(time_mask_param = 10)) # a maximum of 10 time steps will be masked\n",
        "transformations.append(FrequencyMasking(freq_mask_param = 3)) # maximum of 3 freq channels will be masked"
      ],
      "execution_count": null,
      "outputs": []
    },
    {
      "cell_type": "code",
      "metadata": {
        "colab": {
          "base_uri": "https://localhost:8080/"
        },
        "id": "YRmoxakpf13l",
        "outputId": "41630f58-04e5-4bc8-e0cf-6f59c362b11e"
      },
      "source": [
        "print(transformations)"
      ],
      "execution_count": null,
      "outputs": [
        {
          "output_type": "stream",
          "text": [
            "[PadAudio(), MelSpectrogram(\n",
            "  (spectrogram): Spectrogram()\n",
            "  (mel_scale): MelScale()\n",
            "), LogMelTransform(), TimeMasking(), FrequencyMasking()]\n"
          ],
          "name": "stdout"
        }
      ]
    },
    {
      "cell_type": "markdown",
      "metadata": {
        "id": "Q9hhlhDDMEos"
      },
      "source": [
        "## Data Loaders\n",
        "\n",
        "Let's now set up our data loaders so that we can streamline the batch loading of data for our model training later on. "
      ]
    },
    {
      "cell_type": "code",
      "metadata": {
        "id": "KEJ5I9rNN34D"
      },
      "source": [
        "BATCH_SIZE = 32\n",
        "NUM_WORKERS = 4\n",
        "PIN_MEMORY = True if device == 'cuda' else False\n",
        "\n",
        "def train_collate_fn(batch):\n",
        "\n",
        "    # A data tuple has the form:\n",
        "    # filename, waveform, sample_rate, label\n",
        "\n",
        "    tensors, targets, filenames = [], [], []\n",
        "\n",
        "    # Gather in lists, and encode labels as indices\n",
        "    for filename, waveform, sample_rate, label in batch:\n",
        "        # apply transformations\n",
        "        for transform in transformations:\n",
        "            waveform = transform(waveform)\n",
        "        waveform = waveform.squeeze().T\n",
        "        tensors += [waveform]\n",
        "        targets += [labels_to_indices[label]]\n",
        "        filenames += [filename]\n",
        "\n",
        "    # Group the list of tensors into a batched tensor\n",
        "    tensors = torch.stack(tensors)\n",
        "    targets = torch.LongTensor(targets)\n",
        "\n",
        "    return (tensors, targets, filenames)\n",
        "\n",
        "def eval_collate_fn(batch):\n",
        "\n",
        "    # A data tuple has the form:\n",
        "    # filename, waveform, sample_rate, label\n",
        "\n",
        "    tensors, targets, filenames = [], [], []\n",
        "\n",
        "    # Gather in lists, and encode labels as indices\n",
        "    for filename, waveform, sample_rate, label in batch:\n",
        "        # apply transformations\n",
        "        for transform in eval_transformations:\n",
        "            waveform = transform(waveform)\n",
        "        waveform = waveform.squeeze().T\n",
        "        tensors += [waveform]\n",
        "        targets += [labels_to_indices[label]]\n",
        "        filenames += [filename]\n",
        "\n",
        "    # Group the list of tensors into a batched tensor\n",
        "    tensors = torch.stack(tensors)\n",
        "    targets = torch.LongTensor(targets)\n",
        "    filenames += [filename]\n",
        "\n",
        "    return (tensors, targets, filenames)\n",
        "\n",
        "train_loader = torch.utils.data.DataLoader(\n",
        "    train_set,\n",
        "    batch_size=BATCH_SIZE,\n",
        "    shuffle=True,\n",
        "    drop_last=False,\n",
        "    collate_fn=train_collate_fn,\n",
        "    num_workers=NUM_WORKERS,\n",
        "    pin_memory=PIN_MEMORY,\n",
        ")\n",
        "\n",
        "valid_loader = torch.utils.data.DataLoader(\n",
        "    valid_set,\n",
        "    batch_size=BATCH_SIZE,\n",
        "    shuffle=False,\n",
        "    drop_last=False,\n",
        "    collate_fn=eval_collate_fn,\n",
        "    num_workers=NUM_WORKERS,\n",
        "    pin_memory=PIN_MEMORY,\n",
        ")"
      ],
      "execution_count": null,
      "outputs": []
    },
    {
      "cell_type": "markdown",
      "metadata": {
        "id": "3OWoxpWcM3D4"
      },
      "source": [
        "## Setting up the Model\n",
        "\n",
        "In this speech classification example, we will make use of a Long-Short-Term Memory Recurrent Neural Network (LSTM-RNN)."
      ]
    },
    {
      "cell_type": "code",
      "metadata": {
        "id": "OQWw_iedO1wa"
      },
      "source": [
        "class RNN(nn.Module):\n",
        "    def __init__(self, input_size, hidden_size, num_layers, num_classes, device, classes=None):\n",
        "        super(RNN, self).__init__()\n",
        "        self.hidden_size = hidden_size\n",
        "        self.num_layers = num_layers\n",
        "        self.lstm = nn.LSTM(input_size, hidden_size, num_layers, batch_first=True)\n",
        "        self.fc = nn.Linear(hidden_size, num_classes)\n",
        "        self.device = device\n",
        "        self.classes = classes\n",
        "\n",
        "    def forward(self, x):\n",
        "        # Set initial hidden and cell states\n",
        "        batch_size = x.size(0)\n",
        "        h0 = torch.zeros(self.num_layers, batch_size, self.hidden_size).to(self.device) \n",
        "        c0 = torch.zeros(self.num_layers, batch_size, self.hidden_size).to(self.device) \n",
        "        \n",
        "        # Forward propagate LSTM\n",
        "        out, _ = self.lstm(x, (h0, c0))  # shape = (batch_size, seq_length, hidden_size)\n",
        "        \n",
        "        # Decode the hidden state of the last time step\n",
        "        out = self.fc(out[:, -1, :])\n",
        "        return out\n",
        "\n",
        "    def predict(self, x):\n",
        "        '''Predict one label from one sample's features'''\n",
        "        # x: feature from a sample, LxN\n",
        "        #   L is length of sequency\n",
        "        #   N is feature dimension\n",
        "        x = torch.tensor(x[np.newaxis, :], dtype=torch.float32)\n",
        "        x = x.to(self.device)\n",
        "        outputs = self.forward(x)\n",
        "        _, predicted = torch.max(outputs.data, 1)\n",
        "        predicted_index = predicted.item()\n",
        "        return predicted_index"
      ],
      "execution_count": null,
      "outputs": []
    },
    {
      "cell_type": "code",
      "metadata": {
        "id": "_buFizTrXAR8"
      },
      "source": [
        "# initialize the model class\n",
        "model = RNN(input_size=128, hidden_size=128, num_layers=2, num_classes=len(labels), device=device, classes=labels).to(device)"
      ],
      "execution_count": null,
      "outputs": []
    },
    {
      "cell_type": "code",
      "metadata": {
        "id": "yC6VwQVKOMXg"
      },
      "source": [
        ""
      ],
      "execution_count": null,
      "outputs": []
    },
    {
      "cell_type": "code",
      "metadata": {
        "id": "BUX4oPhpOMbC"
      },
      "source": [
        ""
      ],
      "execution_count": null,
      "outputs": []
    },
    {
      "cell_type": "markdown",
      "metadata": {
        "id": "fEO5-yINONbd"
      },
      "source": [
        "## Training the model"
      ]
    },
    {
      "cell_type": "code",
      "metadata": {
        "id": "ZL3F-89ZXQDU"
      },
      "source": [
        "criterion = nn.CrossEntropyLoss()\n",
        "optimizer = torch.optim.Adam(model.parameters(), lr=1e-4)\n",
        "optimizer.zero_grad()\n",
        "num_epochs = 10 #50"
      ],
      "execution_count": null,
      "outputs": []
    },
    {
      "cell_type": "code",
      "metadata": {
        "colab": {
          "base_uri": "https://localhost:8080/"
        },
        "id": "trjdd2wgXqfv",
        "outputId": "1ddf5c01-2cbb-4082-d164-309e79d3b918"
      },
      "source": [
        "for epoch in range(1,num_epochs+1):\n",
        "\n",
        "  # training steps\n",
        "  model.train()\n",
        "  count_correct, count_total = 0, 0\n",
        "  for idx, (features, targets, filenames) in enumerate(train_loader):\n",
        "\n",
        "    features = features.to(device)\n",
        "    targets = targets.to(device)\n",
        "\n",
        "    # forward pass\n",
        "    outputs = model(features)\n",
        "    loss = criterion(outputs, targets)\n",
        "\n",
        "    # backward pass\n",
        "    loss.backward()\n",
        "    optimizer.step()\n",
        "    optimizer.zero_grad()\n",
        "\n",
        "    # training results\n",
        "    _, argmax = torch.max(outputs, 1)\n",
        "    count_correct += (targets == argmax.squeeze()).sum().item()\n",
        "    count_total += targets.size(0)\n",
        "\n",
        "  train_acc = count_correct / count_total\n",
        "  \n",
        "  # evaluation steps\n",
        "  model.eval()\n",
        "  count_correct, count_total = 0, 0\n",
        "  with torch.no_grad():\n",
        "    for idx, (features, targets, filenames) in enumerate(valid_loader):\n",
        "\n",
        "      features = features.to(device)\n",
        "      targets = targets.to(device)\n",
        "\n",
        "      # forward pass\n",
        "      val_outputs = model(features)\n",
        "      val_loss = criterion(val_outputs, targets)\n",
        "\n",
        "      # validation results\n",
        "      _, argmax = torch.max(val_outputs, 1)\n",
        "      count_correct += (targets == argmax.squeeze()).sum().item()\n",
        "      count_total += targets.size(0)\n",
        "\n",
        "  # print results\n",
        "  valid_acc = count_correct / count_total\n",
        "  print('Epoch [{}/{}], Train loss = {:.4f}, Train accuracy = {:.2f}, Valid loss = {:.4f}, Valid accuracy = {:.2f}' \n",
        "        .format(epoch, num_epochs, loss.item(), 100*train_acc, val_loss.item(), 100*valid_acc))"
      ],
      "execution_count": null,
      "outputs": [
        {
          "output_type": "stream",
          "text": [
            "Epoch [1/10], Train loss = 2.4988, Train accuracy = 16.39, Valid loss = 2.5246, Valid accuracy = 14.42\n",
            "Epoch [2/10], Train loss = 2.4728, Train accuracy = 18.94, Valid loss = 2.5253, Valid accuracy = 17.12\n",
            "Epoch [3/10], Train loss = 2.2518, Train accuracy = 24.95, Valid loss = 2.3537, Valid accuracy = 28.27\n",
            "Epoch [4/10], Train loss = 1.8637, Train accuracy = 29.66, Valid loss = 2.0064, Valid accuracy = 31.54\n",
            "Epoch [5/10], Train loss = 1.8139, Train accuracy = 35.48, Valid loss = 2.1508, Valid accuracy = 37.88\n",
            "Epoch [6/10], Train loss = 1.4972, Train accuracy = 39.76, Valid loss = 2.0641, Valid accuracy = 40.19\n",
            "Epoch [7/10], Train loss = 1.5199, Train accuracy = 43.80, Valid loss = 1.9827, Valid accuracy = 43.27\n",
            "Epoch [8/10], Train loss = 1.6057, Train accuracy = 45.43, Valid loss = 2.1970, Valid accuracy = 41.73\n",
            "Epoch [9/10], Train loss = 1.5554, Train accuracy = 46.68, Valid loss = 1.6409, Valid accuracy = 46.92\n",
            "Epoch [10/10], Train loss = 1.4528, Train accuracy = 50.10, Valid loss = 1.7041, Valid accuracy = 46.92\n"
          ],
          "name": "stdout"
        }
      ]
    },
    {
      "cell_type": "code",
      "metadata": {
        "id": "N-9T9ZEsteo8"
      },
      "source": [
        "# save the model\n",
        "torch.save(model.state_dict(), f'{COLAB_FILEPATH}model/speech_classification_lstm.pt')"
      ],
      "execution_count": null,
      "outputs": []
    },
    {
      "cell_type": "markdown",
      "metadata": {
        "id": "sihBd8H7L9RW"
      },
      "source": [
        "## Load back the model"
      ]
    },
    {
      "cell_type": "code",
      "metadata": {
        "colab": {
          "base_uri": "https://localhost:8080/"
        },
        "id": "DrwBps3BL84w",
        "outputId": "e1353ac2-4eb2-439e-a806-28b15989c07d"
      },
      "source": [
        "##model = RNN(input_size=128, hidden_size=128, num_layers=2, num_classes=len(labels), device=device, classes=labels).to(device)\n",
        "model.load_state_dict(torch.load(f'{COLAB_FILEPATH}model/speech_classification_lstm.pt'))"
      ],
      "execution_count": null,
      "outputs": [
        {
          "output_type": "execute_result",
          "data": {
            "text/plain": [
              "<All keys matched successfully>"
            ]
          },
          "metadata": {
            "tags": []
          },
          "execution_count": 29
        }
      ]
    },
    {
      "cell_type": "markdown",
      "metadata": {
        "id": "rUGlO1lFRQQd"
      },
      "source": [
        "## Test Set"
      ]
    },
    {
      "cell_type": "code",
      "metadata": {
        "id": "1vlMBqKgVUjD",
        "colab": {
          "base_uri": "https://localhost:8080/"
        },
        "outputId": "091e458d-6f78-4564-ba71-d867b44f5cd5"
      },
      "source": [
        "!gdown --id 1AvP49xengGjnFTG209AgvAGj-by8WGSi\n",
        "!unzip -q -o s1_test.zip"
      ],
      "execution_count": null,
      "outputs": [
        {
          "output_type": "stream",
          "text": [
            "Downloading...\n",
            "From: https://drive.google.com/uc?id=1AvP49xengGjnFTG209AgvAGj-by8WGSi\n",
            "To: /content/s1_test.zip\n",
            "12.3MB [00:00, 46.6MB/s]\n"
          ],
          "name": "stdout"
        }
      ]
    },
    {
      "cell_type": "code",
      "metadata": {
        "id": "kJPXndbLVSRT"
      },
      "source": [
        "# Initialise dataset object for test set\n",
        "test_set = CustomSpeechDataset(path='s1_test', typ='test')"
      ],
      "execution_count": null,
      "outputs": []
    },
    {
      "cell_type": "code",
      "metadata": {
        "id": "_Cqwt6wCV9lg"
      },
      "source": [
        "# define test collate function and set up test loader\n",
        "\n",
        "def test_collate_fn(batch):\n",
        "\n",
        "    # A data tuple has the form:\n",
        "    # filename, waveform, sample_rate\n",
        "\n",
        "    tensors, filenames = [], []\n",
        "\n",
        "    # Gather in lists\n",
        "    for filename, waveform, sample_rate in batch:\n",
        "        # apply transformations\n",
        "        for transform in eval_transformations:\n",
        "            waveform = transform(waveform)\n",
        "        waveform = waveform.squeeze().T\n",
        "        tensors += [waveform]\n",
        "        filenames += [filename]\n",
        "\n",
        "    # Group the list of tensors into a batched tensor\n",
        "    tensors = torch.stack(tensors)\n",
        "\n",
        "    return (tensors, filenames)\n",
        "\n",
        "test_loader = torch.utils.data.DataLoader(\n",
        "    test_set,\n",
        "    batch_size=BATCH_SIZE,\n",
        "    shuffle=False,\n",
        "    drop_last=False,\n",
        "    collate_fn=test_collate_fn,\n",
        "    num_workers=NUM_WORKERS,\n",
        "    pin_memory=PIN_MEMORY,\n",
        ")"
      ],
      "execution_count": null,
      "outputs": []
    },
    {
      "cell_type": "code",
      "metadata": {
        "id": "wU8vzrvgRUhT"
      },
      "source": [
        "# pass test set through the RNN model\n",
        "model.eval()\n",
        "pred_list, filename_list = [], []\n",
        "with torch.no_grad():\n",
        "  for idx, (features, filenames) in enumerate(test_loader):\n",
        "\n",
        "    features = features.to(device)\n",
        "\n",
        "    # forward pass\n",
        "    outputs = model(features)\n",
        "\n",
        "    # test results\n",
        "    _, argmax = torch.max(outputs, 1)\n",
        "    pred_list += argmax.cpu().tolist()\n",
        "    filename_list += filenames"
      ],
      "execution_count": null,
      "outputs": []
    },
    {
      "cell_type": "code",
      "metadata": {
        "colab": {
          "base_uri": "https://localhost:8080/"
        },
        "id": "LCGZZvqKjss3",
        "outputId": "90458092-f7a8-4616-d1cb-c322ba89b414"
      },
      "source": [
        "print(pred_list[:5], filename_list[:5])"
      ],
      "execution_count": null,
      "outputs": [
        {
          "output_type": "stream",
          "text": [
            "[10, 8, 7, 2, 2] ['test_1166.wav', 'test_0762.wav', 'test_0598.wav', 'test_1255.wav', 'test_0805.wav']\n"
          ],
          "name": "stdout"
        }
      ]
    },
    {
      "cell_type": "code",
      "metadata": {
        "colab": {
          "base_uri": "https://localhost:8080/"
        },
        "id": "gsGaBtIGjs-f",
        "outputId": "7298302f-efae-4823-b6da-a29d102412db"
      },
      "source": [
        "print(filename_list)"
      ],
      "execution_count": null,
      "outputs": [
        {
          "output_type": "stream",
          "text": [
            "['test_1166.wav', 'test_0762.wav', 'test_0598.wav', 'test_1255.wav', 'test_0805.wav', 'test_1153.wav', 'test_1011.wav', 'test_0517.wav', 'test_1272.wav', 'test_0667.wav', 'test_0395.wav', 'test_0187.wav', 'test_0206.wav', 'test_0157.wav', 'test_0501.wav', 'test_0064.wav', 'test_0393.wav', 'test_0919.wav', 'test_0960.wav', 'test_0770.wav', 'test_0744.wav', 'test_1202.wav', 'test_0125.wav', 'test_1149.wav', 'test_1220.wav', 'test_0664.wav', 'test_0340.wav', 'test_1167.wav', 'test_0645.wav', 'test_0361.wav', 'test_0641.wav', 'test_0632.wav', 'test_0466.wav', 'test_0328.wav', 'test_0721.wav', 'test_0563.wav', 'test_0143.wav', 'test_0927.wav', 'test_0445.wav', 'test_0863.wav', 'test_0471.wav', 'test_1217.wav', 'test_1145.wav', 'test_0733.wav', 'test_0859.wav', 'test_0532.wav', 'test_0000.wav', 'test_0417.wav', 'test_0993.wav', 'test_0474.wav', 'test_0979.wav', 'test_0655.wav', 'test_0057.wav', 'test_1102.wav', 'test_0769.wav', 'test_0018.wav', 'test_0587.wav', 'test_0468.wav', 'test_0886.wav', 'test_0698.wav', 'test_0335.wav', 'test_1023.wav', 'test_0033.wav', 'test_1187.wav', 'test_0821.wav', 'test_0726.wav', 'test_1305.wav', 'test_0254.wav', 'test_1082.wav', 'test_0465.wav', 'test_0341.wav', 'test_0818.wav', 'test_0004.wav', 'test_0830.wav', 'test_0077.wav', 'test_0590.wav', 'test_0746.wav', 'test_0463.wav', 'test_0093.wav', 'test_0941.wav', 'test_0298.wav', 'test_0972.wav', 'test_1067.wav', 'test_1307.wav', 'test_0782.wav', 'test_0900.wav', 'test_0140.wav', 'test_0802.wav', 'test_0710.wav', 'test_0071.wav', 'test_1017.wav', 'test_0767.wav', 'test_0504.wav', 'test_0514.wav', 'test_0789.wav', 'test_0074.wav', 'test_0934.wav', 'test_0375.wav', 'test_0026.wav', 'test_1170.wav', 'test_1116.wav', 'test_0935.wav', 'test_0729.wav', 'test_0929.wav', 'test_1335.wav', 'test_0657.wav', 'test_0498.wav', 'test_1101.wav', 'test_0448.wav', 'test_1206.wav', 'test_1285.wav', 'test_0643.wav', 'test_0911.wav', 'test_0105.wav', 'test_1205.wav', 'test_0295.wav', 'test_0615.wav', 'test_0422.wav', 'test_1028.wav', 'test_0922.wav', 'test_1283.wav', 'test_1055.wav', 'test_0971.wav', 'test_1273.wav', 'test_0195.wav', 'test_0269.wav', 'test_1096.wav', 'test_1189.wav', 'test_0277.wav', 'test_1204.wav', 'test_1257.wav', 'test_0046.wav', 'test_0683.wav', 'test_1122.wav', 'test_0754.wav', 'test_0957.wav', 'test_0402.wav', 'test_1291.wav', 'test_1277.wav', 'test_0522.wav', 'test_0680.wav', 'test_0558.wav', 'test_0276.wav', 'test_1233.wav', 'test_0906.wav', 'test_0267.wav', 'test_0182.wav', 'test_0360.wav', 'test_0706.wav', 'test_1031.wav', 'test_0146.wav', 'test_0251.wav', 'test_0243.wav', 'test_0660.wav', 'test_0369.wav', 'test_0842.wav', 'test_0676.wav', 'test_1077.wav', 'test_0553.wav', 'test_1155.wav', 'test_0948.wav', 'test_0722.wav', 'test_0575.wav', 'test_0499.wav', 'test_0583.wav', 'test_0134.wav', 'test_0313.wav', 'test_0042.wav', 'test_0624.wav', 'test_0017.wav', 'test_0871.wav', 'test_0727.wav', 'test_0236.wav', 'test_0201.wav', 'test_0815.wav', 'test_0925.wav', 'test_0297.wav', 'test_0509.wav', 'test_0955.wav', 'test_0457.wav', 'test_0274.wav', 'test_0087.wav', 'test_0495.wav', 'test_0436.wav', 'test_0315.wav', 'test_0629.wav', 'test_1076.wav', 'test_0684.wav', 'test_1044.wav', 'test_0556.wav', 'test_0847.wav', 'test_0841.wav', 'test_1061.wav', 'test_1341.wav', 'test_1063.wav', 'test_0401.wav', 'test_1279.wav', 'test_0613.wav', 'test_1251.wav', 'test_0700.wav', 'test_0063.wav', 'test_0034.wav', 'test_0239.wav', 'test_0379.wav', 'test_0459.wav', 'test_0988.wav', 'test_1130.wav', 'test_1171.wav', 'test_0761.wav', 'test_0930.wav', 'test_0292.wav', 'test_0749.wav', 'test_0420.wav', 'test_1050.wav', 'test_0983.wav', 'test_0311.wav', 'test_0796.wav', 'test_1336.wav', 'test_0216.wav', 'test_0671.wav', 'test_0750.wav', 'test_1328.wav', 'test_0771.wav', 'test_0121.wav', 'test_0885.wav', 'test_1046.wav', 'test_0075.wav', 'test_0378.wav', 'test_0135.wav', 'test_0793.wav', 'test_1016.wav', 'test_0376.wav', 'test_0133.wav', 'test_1190.wav', 'test_0976.wav', 'test_0899.wav', 'test_0383.wav', 'test_0489.wav', 'test_0454.wav', 'test_1339.wav', 'test_1288.wav', 'test_0317.wav', 'test_0371.wav', 'test_0536.wav', 'test_0715.wav', 'test_0415.wav', 'test_0962.wav', 'test_1215.wav', 'test_0484.wav', 'test_0043.wav', 'test_0007.wav', 'test_0707.wav', 'test_1136.wav', 'test_0225.wav', 'test_1070.wav', 'test_0083.wav', 'test_1322.wav', 'test_1080.wav', 'test_0709.wav', 'test_0082.wav', 'test_0974.wav', 'test_0965.wav', 'test_1043.wav', 'test_1172.wav', 'test_0791.wav', 'test_0096.wav', 'test_0310.wav', 'test_0614.wav', 'test_1349.wav', 'test_1013.wav', 'test_0418.wav', 'test_0030.wav', 'test_0353.wav', 'test_1201.wav', 'test_1246.wav', 'test_0177.wav', 'test_0439.wav', 'test_0535.wav', 'test_0159.wav', 'test_0118.wav', 'test_0300.wav', 'test_0956.wav', 'test_0765.wav', 'test_0622.wav', 'test_0891.wav', 'test_0581.wav', 'test_1210.wav', 'test_0819.wav', 'test_0879.wav', 'test_0388.wav', 'test_0145.wav', 'test_1348.wav', 'test_0608.wav', 'test_0380.wav', 'test_0523.wav', 'test_1097.wav', 'test_1003.wav', 'test_0249.wav', 'test_0197.wav', 'test_0665.wav', 'test_1239.wav', 'test_0826.wav', 'test_1062.wav', 'test_1054.wav', 'test_0747.wav', 'test_0456.wav', 'test_1078.wav', 'test_0164.wav', 'test_1163.wav', 'test_0713.wav', 'test_0052.wav', 'test_0330.wav', 'test_0460.wav', 'test_1231.wav', 'test_1014.wav', 'test_0964.wav', 'test_1256.wav', 'test_1103.wav', 'test_0939.wav', 'test_0848.wav', 'test_0853.wav', 'test_1320.wav', 'test_0041.wav', 'test_0881.wav', 'test_0562.wav', 'test_0812.wav', 'test_0835.wav', 'test_1148.wav', 'test_0469.wav', 'test_0114.wav', 'test_0874.wav', 'test_0857.wav', 'test_0346.wav', 'test_0674.wav', 'test_0600.wav', 'test_0687.wav', 'test_0289.wav', 'test_1088.wav', 'test_0047.wav', 'test_0309.wav', 'test_0961.wav', 'test_0069.wav', 'test_0866.wav', 'test_1248.wav', 'test_1160.wav', 'test_0389.wav', 'test_0390.wav', 'test_0547.wav', 'test_0772.wav', 'test_1090.wav', 'test_0868.wav', 'test_0850.wav', 'test_0756.wav', 'test_0166.wav', 'test_0387.wav', 'test_0208.wav', 'test_1310.wav', 'test_0372.wav', 'test_0294.wav', 'test_0483.wav', 'test_1193.wav', 'test_0382.wav', 'test_0109.wav', 'test_0668.wav', 'test_0975.wav', 'test_1282.wav', 'test_0095.wav', 'test_0137.wav', 'test_0901.wav', 'test_0531.wav', 'test_0022.wav', 'test_0079.wav', 'test_1001.wav', 'test_0204.wav', 'test_0248.wav', 'test_0572.wav', 'test_0649.wav', 'test_0487.wav', 'test_0647.wav', 'test_1266.wav', 'test_0658.wav', 'test_0737.wav', 'test_1183.wav', 'test_0748.wav', 'test_0072.wav', 'test_0100.wav', 'test_0412.wav', 'test_0006.wav', 'test_1139.wav', 'test_0947.wav', 'test_0510.wav', 'test_0904.wav', 'test_1299.wav', 'test_0872.wav', 'test_0544.wav', 'test_0316.wav', 'test_0589.wav', 'test_1191.wav', 'test_0604.wav', 'test_0548.wav', 'test_0120.wav', 'test_1150.wav', 'test_0849.wav', 'test_0825.wav', 'test_0008.wav', 'test_0005.wav', 'test_1334.wav', 'test_0377.wav', 'test_0908.wav', 'test_1236.wav', 'test_0228.wav', 'test_0883.wav', 'test_1109.wav', 'test_0623.wav', 'test_0278.wav', 'test_0916.wav', 'test_1093.wav', 'test_0124.wav', 'test_0914.wav', 'test_1304.wav', 'test_0355.wav', 'test_0205.wav', 'test_1262.wav', 'test_0175.wav', 'test_0218.wav', 'test_1126.wav', 'test_1069.wav', 'test_0086.wav', 'test_1143.wav', 'test_1040.wav', 'test_1186.wav', 'test_0432.wav', 'test_0464.wav', 'test_0774.wav', 'test_0155.wav', 'test_0184.wav', 'test_0788.wav', 'test_1060.wav', 'test_0138.wav', 'test_1004.wav', 'test_1140.wav', 'test_1087.wav', 'test_0414.wav', 'test_1249.wav', 'test_0101.wav', 'test_0923.wav', 'test_1072.wav', 'test_0342.wav', 'test_0312.wav', 'test_0794.wav', 'test_1104.wav', 'test_1010.wav', 'test_0550.wav', 'test_0186.wav', 'test_1316.wav', 'test_1302.wav', 'test_0852.wav', 'test_0429.wav', 'test_1110.wav', 'test_1036.wav', 'test_0139.wav', 'test_0735.wav', 'test_0452.wav', 'test_0343.wav', 'test_0123.wav', 'test_1177.wav', 'test_1178.wav', 'test_0067.wav', 'test_0025.wav', 'test_1222.wav', 'test_0246.wav', 'test_0247.wav', 'test_0776.wav', 'test_1235.wav', 'test_0220.wav', 'test_0985.wav', 'test_0020.wav', 'test_0481.wav', 'test_0202.wav', 'test_0640.wav', 'test_0089.wav', 'test_0440.wav', 'test_0400.wav', 'test_0618.wav', 'test_0982.wav', 'test_0921.wav', 'test_1278.wav', 'test_0091.wav', 'test_0833.wav', 'test_0461.wav', 'test_0586.wav', 'test_0601.wav', 'test_0226.wav', 'test_1111.wav', 'test_0437.wav', 'test_0327.wav', 'test_0409.wav', 'test_0434.wav', 'test_1064.wav', 'test_0339.wav', 'test_0773.wav', 'test_0472.wav', 'test_0494.wav', 'test_0029.wav', 'test_0786.wav', 'test_0702.wav', 'test_0515.wav', 'test_1158.wav', 'test_1232.wav', 'test_0419.wav', 'test_1132.wav', 'test_1208.wav', 'test_0443.wav', 'test_0423.wav', 'test_1164.wav', 'test_0917.wav', 'test_0869.wav', 'test_0574.wav', 'test_0520.wav', 'test_0577.wav', 'test_0438.wav', 'test_0209.wav', 'test_0210.wav', 'test_0196.wav', 'test_0450.wav', 'test_0260.wav', 'test_1108.wav', 'test_1192.wav', 'test_0984.wav', 'test_0822.wav', 'test_1250.wav', 'test_0230.wav', 'test_0505.wav', 'test_1261.wav', 'test_0442.wav', 'test_0876.wav', 'test_1182.wav', 'test_0240.wav', 'test_1319.wav', 'test_0364.wav', 'test_0897.wav', 'test_1196.wav', 'test_0396.wav', 'test_0170.wav', 'test_0103.wav', 'test_0122.wav', 'test_1290.wav', 'test_1281.wav', 'test_1012.wav', 'test_0323.wav', 'test_0801.wav', 'test_0090.wav', 'test_0062.wav', 'test_0051.wav', 'test_0845.wav', 'test_1131.wav', 'test_1000.wav', 'test_0492.wav', 'test_0781.wav', 'test_0549.wav', 'test_0639.wav', 'test_0880.wav', 'test_0579.wav', 'test_1058.wav', 'test_0163.wav', 'test_0839.wav', 'test_0951.wav', 'test_0060.wav', 'test_1325.wav', 'test_1184.wav', 'test_1314.wav', 'test_0173.wav', 'test_0013.wav', 'test_1180.wav', 'test_0518.wav', 'test_0800.wav', 'test_0391.wav', 'test_0760.wav', 'test_1024.wav', 'test_1244.wav', 'test_0285.wav', 'test_1026.wav', 'test_1195.wav', 'test_0720.wav', 'test_0699.wav', 'test_0014.wav', 'test_1308.wav', 'test_1242.wav', 'test_0092.wav', 'test_0609.wav', 'test_0582.wav', 'test_1175.wav', 'test_1066.wav', 'test_1151.wav', 'test_0224.wav', 'test_0648.wav', 'test_1146.wav', 'test_0049.wav', 'test_0233.wav', 'test_0293.wav', 'test_1199.wav', 'test_1042.wav', 'test_0843.wav', 'test_0152.wav', 'test_0080.wav', 'test_0780.wav', 'test_0594.wav', 'test_0119.wav', 'test_1002.wav', 'test_1025.wav', 'test_0778.wav', 'test_0128.wav', 'test_1343.wav', 'test_0178.wav', 'test_0333.wav', 'test_0217.wav', 'test_1284.wav', 'test_0617.wav', 'test_0542.wav', 'test_0507.wav', 'test_0942.wav', 'test_1091.wav', 'test_0732.wav', 'test_1185.wav', 'test_0446.wav', 'test_0652.wav', 'test_1280.wav', 'test_0032.wav', 'test_0192.wav', 'test_0567.wav', 'test_1098.wav', 'test_1200.wav', 'test_0207.wav', 'test_0244.wav', 'test_1270.wav', 'test_1089.wav', 'test_0630.wav', 'test_0551.wav', 'test_0888.wav', 'test_0861.wav', 'test_0482.wav', 'test_0806.wav', 'test_1267.wav', 'test_1173.wav', 'test_0287.wav', 'test_0596.wav', 'test_0878.wav', 'test_0854.wav', 'test_0351.wav']\n"
          ],
          "name": "stdout"
        }
      ]
    },
    {
      "cell_type": "code",
      "metadata": {
        "colab": {
          "base_uri": "https://localhost:8080/"
        },
        "id": "a-09HpdGj_WG",
        "outputId": "0452d752-3f6e-4887-a765-05dcd7064cba"
      },
      "source": [
        "print(full_dataset.class_names)"
      ],
      "execution_count": null,
      "outputs": [
        {
          "output_type": "stream",
          "text": [
            "['bird', 'eight', 'falcon', 'five', 'four', 'nine', 'one', 'seven', 'six', 'snake', 'three', 'two', 'zero']\n"
          ],
          "name": "stdout"
        }
      ]
    },
    {
      "cell_type": "markdown",
      "metadata": {
        "id": "qeGHrPzIa9_7"
      },
      "source": [
        "## Submission of Results\n",
        "Submission csv file should contain only 2 columns for filename and label, in that order. The file should be sorted by filename, and exclude headers. \n",
        "\n",
        "Refer to **sample_submission.csv** for an example."
      ]
    },
    {
      "cell_type": "code",
      "metadata": {
        "id": "hGPpF_F7QX98"
      },
      "source": [
        "result_tuple = list(zip(filename_list, pred_list))\n",
        "#print(result_tuple)\n",
        "submission = pd.DataFrame(result_tuple, columns=['filename', 'pred'])\n",
        "submission = submission.sort_values('filename').reset_index(drop=True)\n",
        "submission['label'] = submission['pred'].apply(lambda x: labels[x])"
      ],
      "execution_count": null,
      "outputs": []
    },
    {
      "cell_type": "code",
      "metadata": {
        "id": "ZXO5uUiKZAqZ",
        "colab": {
          "base_uri": "https://localhost:8080/",
          "height": 206
        },
        "outputId": "c06723e0-0659-44a4-92cd-ba3ef48d5f97"
      },
      "source": [
        "submission[['filename', 'label']].head()"
      ],
      "execution_count": null,
      "outputs": [
        {
          "output_type": "execute_result",
          "data": {
            "text/html": [
              "<div>\n",
              "<style scoped>\n",
              "    .dataframe tbody tr th:only-of-type {\n",
              "        vertical-align: middle;\n",
              "    }\n",
              "\n",
              "    .dataframe tbody tr th {\n",
              "        vertical-align: top;\n",
              "    }\n",
              "\n",
              "    .dataframe thead th {\n",
              "        text-align: right;\n",
              "    }\n",
              "</style>\n",
              "<table border=\"1\" class=\"dataframe\">\n",
              "  <thead>\n",
              "    <tr style=\"text-align: right;\">\n",
              "      <th></th>\n",
              "      <th>filename</th>\n",
              "      <th>label</th>\n",
              "    </tr>\n",
              "  </thead>\n",
              "  <tbody>\n",
              "    <tr>\n",
              "      <th>0</th>\n",
              "      <td>test_0000.wav</td>\n",
              "      <td>seven</td>\n",
              "    </tr>\n",
              "    <tr>\n",
              "      <th>1</th>\n",
              "      <td>test_0004.wav</td>\n",
              "      <td>zero</td>\n",
              "    </tr>\n",
              "    <tr>\n",
              "      <th>2</th>\n",
              "      <td>test_0005.wav</td>\n",
              "      <td>six</td>\n",
              "    </tr>\n",
              "    <tr>\n",
              "      <th>3</th>\n",
              "      <td>test_0006.wav</td>\n",
              "      <td>one</td>\n",
              "    </tr>\n",
              "    <tr>\n",
              "      <th>4</th>\n",
              "      <td>test_0007.wav</td>\n",
              "      <td>snake</td>\n",
              "    </tr>\n",
              "  </tbody>\n",
              "</table>\n",
              "</div>"
            ],
            "text/plain": [
              "        filename  label\n",
              "0  test_0000.wav  seven\n",
              "1  test_0004.wav   zero\n",
              "2  test_0005.wav    six\n",
              "3  test_0006.wav    one\n",
              "4  test_0007.wav  snake"
            ]
          },
          "metadata": {
            "tags": []
          },
          "execution_count": 39
        }
      ]
    },
    {
      "cell_type": "code",
      "metadata": {
        "colab": {
          "base_uri": "https://localhost:8080/"
        },
        "id": "yeIWUZvEktws",
        "outputId": "d4b77366-e843-4107-870f-eefb294128a1"
      },
      "source": [
        "submission[\"label\"].value_counts()"
      ],
      "execution_count": null,
      "outputs": [
        {
          "output_type": "execute_result",
          "data": {
            "text/plain": [
              "falcon    107\n",
              "four       74\n",
              "nine       67\n",
              "six        56\n",
              "snake      56\n",
              "five       45\n",
              "eight      40\n",
              "seven      39\n",
              "two        39\n",
              "three      38\n",
              "zero       34\n",
              "bird       27\n",
              "one        27\n",
              "Name: label, dtype: int64"
            ]
          },
          "metadata": {
            "tags": []
          },
          "execution_count": 40
        }
      ]
    },
    {
      "cell_type": "code",
      "metadata": {
        "id": "9V77BPcVkMQR"
      },
      "source": [
        "submission[['filename', 'label']].to_csv(f'{COLAB_FILEPATH}submission/submission.csv', header=None, index=None)"
      ],
      "execution_count": null,
      "outputs": []
    },
    {
      "cell_type": "code",
      "metadata": {
        "id": "F0ALKrPAkh-t"
      },
      "source": [
        ""
      ],
      "execution_count": null,
      "outputs": []
    }
  ]
}